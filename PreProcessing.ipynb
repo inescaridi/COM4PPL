{
 "cells": [
  {
   "cell_type": "markdown",
   "metadata": {},
   "source": [
    "# Unfinished"
   ]
  },
  {
   "cell_type": "code",
   "execution_count": 7,
   "metadata": {},
   "outputs": [],
   "source": [
    "import pandas as pd\n",
    "import os"
   ]
  },
  {
   "cell_type": "markdown",
   "metadata": {},
   "source": [
    "# Config files and folders\n",
    "Path to input/output folders should be passed by parameter or should we use common ones?\n",
    "\n",
    "Config files (csv):\n",
    "- cod_to_proc = name of the databases to process\n",
    "- info_proc = specifies the fields to preprocess and how to\n"
   ]
  },
  {
   "cell_type": "code",
   "execution_count": 27,
   "metadata": {},
   "outputs": [],
   "source": [
    "configDir = os.path.join(os.getcwd(), 'config')\n",
    "dictionariesDir = os.path.join(os.getcwd(), 'dicts')\n",
    "\n",
    "databasesDir = os.path.join(os.getcwd(), 'example')\n",
    "\n",
    "outputPath = os.path.join(databasesDir, 'instances')\n",
    "if not os.path.exists(outputPath):\n",
    "    os.makedirs(outputPath)"
   ]
  },
  {
   "cell_type": "code",
   "execution_count": 181,
   "metadata": {},
   "outputs": [],
   "source": [
    "# Dictionaries\n",
    "countriesDict = pd.read_csv(f\"{dictionariesDir}/dic_countries_iso2.csv\")\n",
    "countriesDict['Country.of.origin'] = countriesDict['Country.of.origin'].apply(lambda x: normalize_string(x))\n",
    "\n",
    "\n",
    "genderDict = pd.read_csv(f\"{dictionariesDir}/dic_gender.csv\")\n",
    "genderDict.Input = genderDict.Input.str.upper()\n",
    "genderDict = dict(zip(genderDict.Input, genderDict.Gender))\n",
    "\n",
    "\n",
    "locationsDict = pd.read_csv(f\"{dictionariesDir}/dic_locations.csv\")"
   ]
  },
  {
   "cell_type": "code",
   "execution_count": 102,
   "metadata": {},
   "outputs": [],
   "source": [
    "# config files\n",
    "parameters = pd.read_csv(f\"{configDir}/parameters.csv\")\n",
    "# parameters = dict(zip(parametersDF.VAR, parametersDF.VALUE))\n",
    "info_proc = pd.read_csv(f\"{configDir}/info_proc.csv\")\n",
    "select_bases = pd.read_csv(f\"{configDir}/select_bases.csv\")"
   ]
  },
  {
   "cell_type": "markdown",
   "metadata": {},
   "source": [
    "# Preprocess\n",
    "+ The final script should allow to pass the names of the csv (databases) by command line or use a csv file named cod_to_proc.csv with the name of the databases to preprocess (to have compatibility with R's script)\n",
    "+ the databases could be in its own directory (as in the example) and the name could be different (as in the example BA1_input instead of BA1)"
   ]
  },
  {
   "cell_type": "code",
   "execution_count": 78,
   "metadata": {},
   "outputs": [
    {
     "name": "stdout",
     "output_type": "stream",
     "text": [
      "original columns: ['ID', 'Full.name', 'Country.of.origin', 'Age', 'Gender', 'Rol']\n",
      "grab only: ['ID', 'Full.name', 'Country.of.origin', 'Gender', 'Age', 'Rol']\n",
      "change the name to: ['Case.ID', 'Name_1', 'Nat', 'Sex', 'Age', 'Rol']\n",
      "   Cod  var_new       var_original var_type  is.proc  to.join\n",
      "0  BA1  Case.ID                 ID       ID        0        1\n",
      "1  BA1   Name_1          Full.name     name        1        1\n",
      "2  BA1      Nat  Country.of.origin      nat        1        1\n",
      "3  BA1      Sex             Gender      sex        1        1\n",
      "4  BA1      Age                Age      age        1        1\n",
      "5  BA1      Rol                Rol     role        1        1\n"
     ]
    },
    {
     "data": {
      "text/html": [
       "<div>\n",
       "<style scoped>\n",
       "    .dataframe tbody tr th:only-of-type {\n",
       "        vertical-align: middle;\n",
       "    }\n",
       "\n",
       "    .dataframe tbody tr th {\n",
       "        vertical-align: top;\n",
       "    }\n",
       "\n",
       "    .dataframe thead th {\n",
       "        text-align: right;\n",
       "    }\n",
       "</style>\n",
       "<table border=\"1\" class=\"dataframe\">\n",
       "  <thead>\n",
       "    <tr style=\"text-align: right;\">\n",
       "      <th></th>\n",
       "      <th>Case.ID</th>\n",
       "      <th>Name_1</th>\n",
       "      <th>Nat</th>\n",
       "      <th>Sex</th>\n",
       "      <th>Age</th>\n",
       "      <th>Rol</th>\n",
       "    </tr>\n",
       "  </thead>\n",
       "  <tbody>\n",
       "    <tr>\n",
       "      <th>0</th>\n",
       "      <td>BA1-01</td>\n",
       "      <td>Jorge Perez</td>\n",
       "      <td>Denmark</td>\n",
       "      <td>M</td>\n",
       "      <td>11.0</td>\n",
       "      <td>Missing</td>\n",
       "    </tr>\n",
       "    <tr>\n",
       "      <th>1</th>\n",
       "      <td>BA1-02</td>\n",
       "      <td>John McGregor</td>\n",
       "      <td>guinee equatoriale</td>\n",
       "      <td>M</td>\n",
       "      <td>NaN</td>\n",
       "      <td>Searching</td>\n",
       "    </tr>\n",
       "    <tr>\n",
       "      <th>2</th>\n",
       "      <td>BA1-03</td>\n",
       "      <td>Carla Prieto</td>\n",
       "      <td>zambia</td>\n",
       "      <td>F</td>\n",
       "      <td>34.0</td>\n",
       "      <td>Travelled with</td>\n",
       "    </tr>\n",
       "    <tr>\n",
       "      <th>3</th>\n",
       "      <td>BA1-04</td>\n",
       "      <td>Ariana Maradona</td>\n",
       "      <td>Guatemala</td>\n",
       "      <td>F</td>\n",
       "      <td>23.0</td>\n",
       "      <td>Informant</td>\n",
       "    </tr>\n",
       "    <tr>\n",
       "      <th>4</th>\n",
       "      <td>BA1-05</td>\n",
       "      <td>Oscar Alvarez</td>\n",
       "      <td>Jordan</td>\n",
       "      <td>M</td>\n",
       "      <td>44.0</td>\n",
       "      <td>Missing</td>\n",
       "    </tr>\n",
       "    <tr>\n",
       "      <th>5</th>\n",
       "      <td>BA1-06</td>\n",
       "      <td>Juan Perez</td>\n",
       "      <td>Mali</td>\n",
       "      <td>NaN</td>\n",
       "      <td>15.0</td>\n",
       "      <td>Missing</td>\n",
       "    </tr>\n",
       "    <tr>\n",
       "      <th>6</th>\n",
       "      <td>BA1-07</td>\n",
       "      <td>Maria Urcupiña</td>\n",
       "      <td>Peru</td>\n",
       "      <td>F</td>\n",
       "      <td>18.0</td>\n",
       "      <td>Missing</td>\n",
       "    </tr>\n",
       "    <tr>\n",
       "      <th>7</th>\n",
       "      <td>BA1-08</td>\n",
       "      <td>Stefania Roca</td>\n",
       "      <td>slovenia</td>\n",
       "      <td>NaN</td>\n",
       "      <td>NaN</td>\n",
       "      <td>Informant</td>\n",
       "    </tr>\n",
       "    <tr>\n",
       "      <th>8</th>\n",
       "      <td>BA1-09</td>\n",
       "      <td>Ramon Dekkers</td>\n",
       "      <td>shri lanka</td>\n",
       "      <td>M</td>\n",
       "      <td>22.0</td>\n",
       "      <td>Informant</td>\n",
       "    </tr>\n",
       "    <tr>\n",
       "      <th>9</th>\n",
       "      <td>BA1-10</td>\n",
       "      <td>Ringo Bonavena</td>\n",
       "      <td>tunesia</td>\n",
       "      <td>M</td>\n",
       "      <td>33.0</td>\n",
       "      <td>Informant</td>\n",
       "    </tr>\n",
       "    <tr>\n",
       "      <th>10</th>\n",
       "      <td>BA1-11</td>\n",
       "      <td>Juana Morales</td>\n",
       "      <td>Yemen</td>\n",
       "      <td>F</td>\n",
       "      <td>44.0</td>\n",
       "      <td>Missing</td>\n",
       "    </tr>\n",
       "    <tr>\n",
       "      <th>11</th>\n",
       "      <td>BA1-12</td>\n",
       "      <td>Esteban Quito</td>\n",
       "      <td>Seychelles</td>\n",
       "      <td>M</td>\n",
       "      <td>9.0</td>\n",
       "      <td>Missing</td>\n",
       "    </tr>\n",
       "  </tbody>\n",
       "</table>\n",
       "</div>"
      ],
      "text/plain": [
       "   Case.ID           Name_1                 Nat  Sex   Age             Rol\n",
       "0   BA1-01      Jorge Perez             Denmark    M  11.0         Missing\n",
       "1   BA1-02    John McGregor  guinee equatoriale    M   NaN       Searching\n",
       "2   BA1-03     Carla Prieto              zambia    F  34.0  Travelled with\n",
       "3   BA1-04  Ariana Maradona           Guatemala    F  23.0       Informant\n",
       "4   BA1-05    Oscar Alvarez              Jordan    M  44.0         Missing\n",
       "5   BA1-06       Juan Perez                Mali  NaN  15.0         Missing\n",
       "6   BA1-07   Maria Urcupiña                Peru    F  18.0         Missing\n",
       "7   BA1-08    Stefania Roca            slovenia  NaN   NaN       Informant\n",
       "8   BA1-09    Ramon Dekkers          shri lanka    M  22.0       Informant\n",
       "9   BA1-10   Ringo Bonavena             tunesia    M  33.0       Informant\n",
       "10  BA1-11    Juana Morales               Yemen    F  44.0         Missing\n",
       "11  BA1-12    Esteban Quito          Seychelles    M   9.0         Missing"
      ]
     },
     "execution_count": 78,
     "metadata": {},
     "output_type": "execute_result"
    }
   ],
   "source": [
    "# get databases names\n",
    "databaseNames = pd.read_csv(f\"{configDir}/cod_to_proc.csv\", header=None)[0]\n",
    "\n",
    "# for dbName in databaseNames: #TODO do the next for all databases\n",
    "dbName = databaseNames[0]\n",
    "\n",
    "# read database\n",
    "db = pd.read_csv(f\"{databasesDir}/{dbName}/{dbName}_input.csv\")\n",
    "\n",
    "db_info_proc = info_proc[info_proc.Cod == dbName]\n",
    "\n",
    "print(f\"original columns: {list(db.columns)}\")\n",
    "print(f\"grab only: {list(db_info_proc.var_original)}\")\n",
    "print(f\"change the name to: {list(db_info_proc.var_new)}\")\n",
    "\n",
    "# Only retain the fields from info_proc\n",
    "db = db[db_info_proc.var_original]\n",
    "\n",
    "# And change them as said in info_proc\n",
    "db.columns = list(db_info_proc.var_new)\n",
    "\n",
    "print(db_info_proc)\n",
    "db"
   ]
  },
  {
   "cell_type": "markdown",
   "metadata": {},
   "source": [
    "# Library"
   ]
  },
  {
   "cell_type": "code",
   "execution_count": 139,
   "metadata": {},
   "outputs": [],
   "source": [
    "import re\n",
    "from datetime import date, datetime\n",
    "from dateutil.relativedelta import relativedelta\n",
    "import unicodedata\n"
   ]
  },
  {
   "cell_type": "code",
   "execution_count": 211,
   "metadata": {},
   "outputs": [],
   "source": [
    "# config files and dictionaries should be global variables \n",
    "#(or passed to every other function)\n",
    "\n",
    "def processAge(age):\n",
    "    return int(re.findall(r'\\d+', age)[0])\n",
    "\n",
    "def processAge_2(yob, toDate=date.today()):\n",
    "    yob = datetime(int(yob),1,1) # year of birth - month: 1 - day: 1\n",
    "    if 'fecha' in parameters.VAR:\n",
    "        date_str = parameters[parameters.VAR == 'fecha'].VALUE.values[0]\n",
    "        toDate = datetime.strptime(date_str, \"%Y-%m-%d\")\n",
    "    return relativedelta(toDate, yob).years\n",
    "\n",
    "# TODO def processAge_3\n",
    "\n",
    "def processName(name):\n",
    "    return normalize_string(name)\n",
    "\n",
    "def processSex(sex):\n",
    "    sex = sex.strip().upper()\n",
    "    return genderDict[sex]\n",
    "    \n",
    "def processDate(date_str, dateFormat = \"%m/%d/%Y\"):\n",
    "    return datetime.strptime(date_str, dateFormat)\n",
    "\n",
    "# TODO def processLocation(location):\n",
    "\n",
    "def processNationality(nationality):\n",
    "    nationality = normalize_string(nationality)\n",
    "    if nationality in countriesDict['Country.of.origin']:\n",
    "        print('found')\n",
    "        nationality = countriesDict[countriesDict['Country.of.origin']==nationality].Processed.values[0]\n",
    "    return nationality #best effort, otherwise we do nothing\n",
    "    \n"
   ]
  },
  {
   "cell_type": "code",
   "execution_count": 191,
   "metadata": {},
   "outputs": [],
   "source": [
    "processTypeDict = {'age': processAge,\n",
    "    'age_2':processAge_2,\n",
    "#     'age_3':processAge_3,\n",
    "    'sex': processSex,\n",
    "    'nat': processNationality,\n",
    "    'name': processName,\n",
    "    'date': processDate,\n",
    "#     'loc': processLoc,\n",
    "#     'adress': processAdress,\n",
    "#     'phone': processPhone,\n",
    "    'role': processName\n",
    "}"
   ]
  },
  {
   "cell_type": "code",
   "execution_count": 214,
   "metadata": {},
   "outputs": [
    {
     "data": {
      "text/plain": [
       "0      afghanistan\n",
       "1       afganistan\n",
       "2           africa\n",
       "3          albania\n",
       "4          algeria\n",
       "          ...     \n",
       "240        reunion\n",
       "241     madagascar\n",
       "242        mayotte\n",
       "243      mauritius\n",
       "244         malawi\n",
       "Name: Country.of.origin, Length: 245, dtype: object"
      ]
     },
     "execution_count": 214,
     "metadata": {},
     "output_type": "execute_result"
    }
   ],
   "source": [
    "processNationality('africa')\n",
    "nationality='africa'\n",
    "countriesDict['Country.of.origin']\n",
    "\n",
    "withIndex = countriesDict.set_index('Country.of.origin')\n",
    "withIndex.to_dict()"
   ]
  },
  {
   "cell_type": "markdown",
   "metadata": {},
   "source": [
    "# Library auxiliars"
   ]
  },
  {
   "cell_type": "code",
   "execution_count": 192,
   "metadata": {},
   "outputs": [],
   "source": [
    "def strip_accents(s):\n",
    "    return ''.join(c for c in unicodedata.normalize('NFD', s)\n",
    "                   if unicodedata.category(c) != 'Mn')\n",
    "\n",
    "def normalize_string(s):\n",
    "    if s=='':\n",
    "        return s\n",
    "    s = strip_accents(s.strip()).lower()\n",
    "    return re.sub('\\s+', ' ', s) #remove multiple spaces"
   ]
  }
 ],
 "metadata": {
  "kernelspec": {
   "display_name": "Python 3",
   "language": "python",
   "name": "python3"
  },
  "language_info": {
   "codemirror_mode": {
    "name": "ipython",
    "version": 3
   },
   "file_extension": ".py",
   "mimetype": "text/x-python",
   "name": "python",
   "nbconvert_exporter": "python",
   "pygments_lexer": "ipython3",
   "version": "3.8.10"
  }
 },
 "nbformat": 4,
 "nbformat_minor": 4
}
